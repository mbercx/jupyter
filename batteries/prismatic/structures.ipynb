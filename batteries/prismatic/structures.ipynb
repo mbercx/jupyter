{
 "cells": [
  {
   "cell_type": "markdown",
   "metadata": {},
   "source": [
    "# Prismatic structures of Li2MnO3\n",
    "\n",
    "In this notebook I've developed a small interactive tool to view the final geometries of the prismatic models of Li$_2$MnO$_3$. Once the binder has loaded, just execute the cell below and then use the drop down menu's to choose the `model`, `Li concentration` and DFT `functional`.\n",
    "\n",
    "<em> In order to execute the cell: select it with the left mouse button and press `Shift+Enter`.</em>"
   ]
  },
  {
   "cell_type": "code",
   "execution_count": 6,
   "metadata": {},
   "outputs": [
    {
     "data": {
      "application/vnd.jupyter.widget-view+json": {
       "model_id": "8cebd505907648a7bc2bcaef35d05120",
       "version_major": 2,
       "version_minor": 0
      },
      "text/plain": [
       "interactive(children=(Dropdown(description='model', options=('Li2MnO3_type', 'inverted_p2_like', '202639_Li2Mn…"
      ]
     },
     "metadata": {},
     "output_type": "display_data"
    }
   ],
   "source": [
    "# Execute this cell to visualize the structures and compare them to the original model.\n",
    "\n",
    "import os\n",
    "import json\n",
    "import imolecule\n",
    "\n",
    "from pymatgen import Structure\n",
    "from pymatgen.symmetry.analyzer import SpacegroupAnalyzer\n",
    "\n",
    "from monty.io import zopen\n",
    "from ipywidgets import interact, fixed, Dropdown\n",
    "\n",
    "# Lists of various structural models, Li concentrations and functional settings\n",
    "models = [\"Li2MnO3_type\", \"inverted_p2_like\", \"202639_Li2MnO3_pristine\",\n",
    "\"Li2MnO3_type_O_shifted\", \"inverted_p2_like_O_shifted\", \"symm_inverted_p2_like\"]\n",
    "li_concentrations = [\"0\", \"0.25\"]\n",
    "functional_list = [\"scan\" , \"pbeu_Mn3.9\", \"hse\"]\n",
    "\n",
    "# Set the atom sizes and colors for imolecule\n",
    "element_properties={\n",
    "    \"Li\": { \"color\": 0x66ff66, \"radius\": 0.85 },\n",
    "    \"O\": { \"color\": 0xff0000, \"radius\": 0.7 },\n",
    "    \"Mn\": { \"color\": 0xf00fff, \"radius\": 1.35 },\n",
    "}\n",
    "\n",
    "data_dir = os.path.join(os.getcwd(), \"li2mno3_prism\")\n",
    "\n",
    "def get_energy(data_file):\n",
    "    \"\"\"\n",
    "    Quick method for extracting the final energy from a calculation.\n",
    "    \"\"\"\n",
    "\n",
    "    with zopen(data_file) as file:\n",
    "        data = json.load(file)\n",
    "        return data[\"output\"][\"final_energy\"]\n",
    "\n",
    "def visualize_prism(data_dir, model, li_conc, functional):\n",
    "    \n",
    "    conc_dir = str(li_conc) + \"_li\"\n",
    "    \n",
    "    if li_conc == \"0\":\n",
    "        orig_path = os.path.join(data_dir, conc_dir, model, model + \"_charged.json\")\n",
    "    else:\n",
    "        orig_path = os.path.join(data_dir, conc_dir, model, model + \".json\")\n",
    "        \n",
    "    orig_cat = Structure.from_file(orig_path)\n",
    "    super_orig = orig_cat.copy()\n",
    "    super_orig.make_supercell([2, 2, 2])\n",
    "    super_orig.to(\"cif\", \"temp.cif\")\n",
    "    print()\n",
    "    print(\"Original Structure\")\n",
    "    print(\"------------------\")\n",
    "    print()\n",
    "    imolecule.draw(\"temp.cif\", element_properties=element_properties)\n",
    "    \n",
    "    final_path = os.path.join(data_dir, conc_dir, model, functional + \"_relax\", \"final_cathode.cif\")\n",
    "    final_cat = Structure.from_file(final_path)\n",
    "    if functional == \"hse\":\n",
    "        spg = SpacegroupAnalyzer(final_cat)\n",
    "        super_final = spg.get_conventional_standard_structure()\n",
    "    else:\n",
    "        super_final = final_cat.copy()\n",
    "    super_final.make_supercell([2, 2, 2])\n",
    "    super_final.to(\"cif\", \"temp.cif\")\n",
    "    print()\n",
    "    print(\"Final Structure\")\n",
    "    print(\"---------------\")\n",
    "    print()\n",
    "    imolecule.draw(\"temp.cif\", element_properties=element_properties)\n",
    "    \n",
    "# Interactive function for visualizing the structures\n",
    "interact(visualize_prism,\n",
    "         data_dir=fixed(data_dir),\n",
    "         model=models, \n",
    "         li_conc=Dropdown(options=li_concentrations,\n",
    "                         description=\"Li concentration\"),\n",
    "         functional=functional_list);"
   ]
  },
  {
   "cell_type": "markdown",
   "metadata": {},
   "source": [
    "Note that the structures above can be rotated by clicking and dragging with the left mouse button. In case no structures are visible right after executing the cell, try changing the selection in one of the dropdown menu's."
   ]
  },
  {
   "cell_type": "code",
   "execution_count": null,
   "metadata": {},
   "outputs": [],
   "source": []
  }
 ],
 "metadata": {
  "kernelspec": {
   "display_name": "Python 3",
   "language": "python",
   "name": "python3"
  },
  "language_info": {
   "codemirror_mode": {
    "name": "ipython",
    "version": 3
   },
   "file_extension": ".py",
   "mimetype": "text/x-python",
   "name": "python",
   "nbconvert_exporter": "python",
   "pygments_lexer": "ipython3",
   "version": "3.7.3"
  },
  "latex_envs": {
   "LaTeX_envs_menu_present": true,
   "autoclose": false,
   "autocomplete": true,
   "bibliofile": "biblio.bib",
   "cite_by": "apalike",
   "current_citInitial": 1,
   "eqLabelWithNumbers": true,
   "eqNumInitial": 1,
   "hotkeys": {
    "equation": "Ctrl-E",
    "itemize": "Ctrl-I"
   },
   "labels_anchors": false,
   "latex_user_defs": false,
   "report_style_numbering": false,
   "user_envs_cfg": false
  }
 },
 "nbformat": 4,
 "nbformat_minor": 2
}
