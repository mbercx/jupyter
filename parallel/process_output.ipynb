{
 "cells": [
  {
   "cell_type": "code",
   "execution_count": 2,
   "metadata": {},
   "outputs": [],
   "source": [
    "import os, json\n",
    "import numpy as np\n",
    "\n",
    "from monty.re import regrep\n",
    "from pymatgen.io.vasp.inputs import Incar\n",
    "from ipywidgets import interact, fixed, FloatSlider, Text"
   ]
  },
  {
   "cell_type": "markdown",
   "metadata": {},
   "source": [
    "# Processing the output into one datafile\n",
    "\n",
    "The function below was used to produce `.json` files for each of the systems we have studied. It can take a bit of time to run, as it needs to parse all the `OUTCAR`'s of the various calculations. Hence, directly loading the data from a `.json` file is faster, and that is used in [the parallel_analysis.ipynb notebook](parallel_analysis.ipynb)."
   ]
  },
  {
   "cell_type": "code",
   "execution_count": 3,
   "metadata": {},
   "outputs": [],
   "source": [
    "def process_parallel(data_dir, output_filename=\"parallel.json\"):\n",
    "    timing_list = []\n",
    "\n",
    "    cores_pattern = r\"\\s+running\\son\\s+(\\S+)\\stotal\\scores\"\n",
    "    loop_pattern = r\"\\s+LOOP:\\s+cpu\\stime\\s+\\S+:\\sreal\\stime\\s+(\\S+)\"\n",
    "\n",
    "    for nodes_dir in os.listdir(data_dir):\n",
    "\n",
    "        nodes = int(nodes_dir.strip(\"nodes\"))\n",
    "\n",
    "        for kpar_dir in os.listdir(os.path.join(data_dir, nodes_dir)):\n",
    "\n",
    "            kpar = int(kpar_dir.strip(\"kpar\"))\n",
    "\n",
    "            for npar_dir in os.listdir(os.path.join(data_dir, nodes_dir, kpar_dir)):\n",
    "\n",
    "                npar = int(npar_dir.strip(\"npar\"))\n",
    "\n",
    "                nelmdl = np.abs(Incar.from_file(\n",
    "                    os.path.join(data_dir, nodes_dir, kpar_dir, npar_dir, \"INCAR\")\n",
    "                ).get(\"NELMDL\", 5))\n",
    "\n",
    "                try:\n",
    "                    loop_timing = regrep(\n",
    "                        filename=os.path.join(data_dir, nodes_dir, kpar_dir, npar_dir, \"OUTCAR\"),\n",
    "                        patterns={\"loop\": loop_pattern})[\"loop\"]\n",
    "\n",
    "                    if len(loop_timing) > nelmdl:\n",
    "                        average_loop = np.mean([float(e[0][0]) for e in loop_timing][nelmdl:])\n",
    "                        total_cores = int(regrep(\n",
    "                            filename=os.path.join(data_dir, nodes_dir, kpar_dir, npar_dir, \"OUTCAR\"),\n",
    "                            patterns={\"cores\": cores_pattern})[\"cores\"][0][0][0])\n",
    "                        ncore = total_cores // kpar // npar\n",
    "\n",
    "                        timing_list.append(\n",
    "                            {\"nodes\": nodes, \"kpar\": kpar, \"ncore\": ncore,\n",
    "                             \"npar\": npar, \"timing\": average_loop}\n",
    "                        )\n",
    "                except:\n",
    "                    print(\"Failed: \" + str(nodes) + \" \" + str(npar) + \" \"  + str(kpar))\n",
    "\n",
    "    with open(output_filename, \"w\") as file:\n",
    "        file.write(json.dumps(timing_list))"
   ]
  },
  {
   "cell_type": "markdown",
   "metadata": {},
   "source": [
    "The cells below process each process one set of data into a corresponding json file and save it to the `data` directory.\n",
    "\n",
    "**Note: The notebook does not have access any of the `data_dir`'s used below when running on Binder. It it simply added to the repository for completeness**"
   ]
  },
  {
   "cell_type": "markdown",
   "metadata": {},
   "source": [
    "### Leibniz"
   ]
  },
  {
   "cell_type": "code",
   "execution_count": 16,
   "metadata": {},
   "outputs": [],
   "source": [
    "process_parallel(\"/mnt/data/mbercx/leibniz/U4O8/84bands_455kpoints/\", \"data/leibniz_UO2_A12_K455_pbe.json\")"
   ]
  },
  {
   "cell_type": "code",
   "execution_count": 15,
   "metadata": {},
   "outputs": [],
   "source": [
    "process_parallel(\"/mnt/data/mbercx/leibniz/U60O140/1008bands_6kpoints/\", \"data/leibniz_U3O7_A200_K6_pbe.json\")"
   ]
  },
  {
   "cell_type": "markdown",
   "metadata": {},
   "source": [
    "### Breniac"
   ]
  },
  {
   "cell_type": "code",
   "execution_count": 4,
   "metadata": {},
   "outputs": [],
   "source": [
    "process_parallel(\"/mnt/data/mbercx/breniac/U4O8/84bands_455kpoints/\", \"data/breniac_UO2_A12_K455_pbe.json\")"
   ]
  },
  {
   "cell_type": "code",
   "execution_count": 6,
   "metadata": {},
   "outputs": [
    {
     "name": "stdout",
     "output_type": "stream",
     "text": [
      "Failed: 16 7 2\n"
     ]
    }
   ],
   "source": [
    "process_parallel(\"/mnt/data/mbercx/breniac/U12O32/420bands_60kpoints/\", \"data/breniac_U3O8_A44_K60_pbe.json\")"
   ]
  },
  {
   "cell_type": "code",
   "execution_count": 22,
   "metadata": {},
   "outputs": [],
   "source": [
    "process_parallel(\"/mnt/data/mbercx/breniac/U60O140/1008bands_6kpoints/\", \"data/breniac_U3O7_A200_K6_pbe.json\")"
   ]
  },
  {
   "cell_type": "code",
   "execution_count": 17,
   "metadata": {},
   "outputs": [],
   "source": [
    "process_parallel(\"/mnt/data/mbercx/breniac/Al2CuS4_hse/56bands_40kpoints/\", \"data/breniac_Al2CuS4_A8_K40_hse.json\")"
   ]
  },
  {
   "cell_type": "code",
   "execution_count": null,
   "metadata": {},
   "outputs": [],
   "source": []
  }
 ],
 "metadata": {
  "kernelspec": {
   "display_name": "Python 3",
   "language": "python",
   "name": "python3"
  },
  "language_info": {
   "codemirror_mode": {
    "name": "ipython",
    "version": 3
   },
   "file_extension": ".py",
   "mimetype": "text/x-python",
   "name": "python",
   "nbconvert_exporter": "python",
   "pygments_lexer": "ipython3",
   "version": "3.7.4"
  }
 },
 "nbformat": 4,
 "nbformat_minor": 4
}
