{
 "cells": [
  {
   "cell_type": "markdown",
   "metadata": {},
   "source": [
    "# Parallelization - Workflow Interface\n",
    "\n",
    "In order to test the scaling of a particular system on a cluster, we have to compare the optimal performance of the cluster for an increasing number of resources (nodes) used.\n",
    "\n",
    "A sensible measure for gauging the performance of different resources/parallelization settings is the average electronic time step. This is especially useful compared to running a full calculation when we are testing the scaling for a very demanding calculation, as this might not be able to finish in the walltime for our baseline resource specification (ideally a single core). In light of this, we will simply perform a static calculation with a very demanding electronic convergence condition (1e-8). This will allow for a sufficient amount of electronic steps to average over.\n",
    "\n",
    "The cell below launches an interface for submitting workflows to a test mongoDB server. Be sure to change the default INCAR settings if desired, or change the settings of the two `Custodian` `ErrorHandler`'s we use for these workflows.\n",
    "\n",
    "**Note: Because the Binder server seems to have issues connecting to the mongoDB database, submitting workflows is not possible when using this notebook from Binder.**"
   ]
  },
  {
   "cell_type": "code",
   "execution_count": 1,
   "metadata": {},
   "outputs": [
    {
     "data": {
      "application/vnd.jupyter.widget-view+json": {
       "model_id": "83ef843bf12a4e8e8f0a2f00bbc18cab",
       "version_major": 2,
       "version_minor": 0
      },
      "text/plain": [
       "HBox(children=(FileUpload(value={}, description='Upload'), Select(description='Fworker:', options=('leibniz', …"
      ]
     },
     "metadata": {},
     "output_type": "display_data"
    },
    {
     "data": {
      "application/vnd.jupyter.widget-view+json": {
       "model_id": "6e9367c2d4704cd5b31f0d2f14c936b0",
       "version_major": 2,
       "version_minor": 0
      },
      "text/plain": [
       "Output()"
      ]
     },
     "metadata": {},
     "output_type": "display_data"
    },
    {
     "data": {
      "application/vnd.jupyter.widget-view+json": {
       "model_id": "d4f350fddb79457d91354b975322289c",
       "version_major": 2,
       "version_minor": 0
      },
      "text/plain": [
       "Output()"
      ]
     },
     "metadata": {},
     "output_type": "display_data"
    }
   ],
   "source": [
    "from vscworkflows.handlers.core import ParallelizationTestMonitor, JobTerminator\n",
    "\n",
    "try:\n",
    "    CLUSTER_DICT = {\n",
    "        \"leibniz\": {\n",
    "            \"launchpad\": LaunchPad.from_dict({\n",
    "                'host': 'mongodb+srv://testcluster-au9d3.gcp.mongodb.net',\n",
    "                'port': 27017,\n",
    "                'name': 'test_leibniz',\n",
    "                'username': 'testuser',\n",
    "                'password': 'testpassword',\n",
    "                'ssl': True,\n",
    "                'authsource': 'admin'\n",
    "            }),\n",
    "            \"scratch_dir\": \"/scratch/antwerpen/202/vsc20248/\",\n",
    "            \"cores_per_node\": 28\n",
    "        },\n",
    "        \"hopper\": {\n",
    "            \"launchpad\": LaunchPad.from_dict({\n",
    "                'host': 'mongodb+srv://testcluster-au9d3.gcp.mongodb.net',\n",
    "                'port': 27017,\n",
    "                'name': 'test_hopper',\n",
    "                'username': 'testuser',\n",
    "                'password': 'testpassword',\n",
    "                'ssl': True,\n",
    "                'authsource': 'admin'\n",
    "            }),\n",
    "            \"scratch_dir\": \"/scratch/antwerpen/202/vsc20248/\",\n",
    "            \"cores_per_node\": 20\n",
    "        }\n",
    "    }\n",
    "except ConfigurationError:\n",
    "    print(\"Failed to connect to mongoDB server specified by the Launchpad. \" +\n",
    "          \"Please check your connection.\")\n",
    "\n",
    "# Defaults for the parallelization settings\n",
    "user_incar_settings = {\"ALGO\": \"Normal\", \"ENCUT\":350, \"EDIFF\": 1e-8}\n",
    "\n",
    "handlers = [ParallelizationTestMonitor(max_elec_step_time=500, max_elec_steps=10),\n",
    "            JobTerminator(errors_subset_to_catch=[\"subspacematrix\", \"zpotrf\"], timeout=100)]\n",
    "\n",
    "# Launch the interface\n",
    "%run -i online_workflow_interface.py"
   ]
  },
  {
   "cell_type": "code",
   "execution_count": null,
   "metadata": {},
   "outputs": [],
   "source": []
  }
 ],
 "metadata": {
  "kernelspec": {
   "display_name": "Python 3",
   "language": "python",
   "name": "python3"
  },
  "language_info": {
   "codemirror_mode": {
    "name": "ipython",
    "version": 3
   },
   "file_extension": ".py",
   "mimetype": "text/x-python",
   "name": "python",
   "nbconvert_exporter": "python",
   "pygments_lexer": "ipython3",
   "version": "3.7.4"
  }
 },
 "nbformat": 4,
 "nbformat_minor": 4
}
