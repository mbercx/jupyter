{
 "cells": [
  {
   "cell_type": "markdown",
   "metadata": {},
   "source": [
    "# Parallelization - Workflow Interface\n",
    "\n",
    "A sensible measure for gauging the performance of different resources/parallelization settings is the average electronic time step. This is especially useful compared to running a full calculation when we are testing the scaling for a very demanding calculation, as this might not be able to finish in the walltime for our baseline resource specification (ideally a single core). In light of this, we will simply perform a static calculation with a very demanding electronic convergence condition (1e-8). This will allow for a sufficient amount of electronic steps to average over.\n",
    "\n",
    "The cell below launches an interface for submitting workflows to a test mongoDB server. Be sure to change the default INCAR settings if desired, or change the settings of the two `Custodian` `ErrorHandler`'s we use for these workflows.\n",
    "\n",
    "**Note: Because the Binder server seems to have issues connecting to the mongoDB database, submitting workflows is not possible when using this notebook from Binder.**"
   ]
  },
  {
   "cell_type": "code",
   "execution_count": 1,
   "metadata": {},
   "outputs": [
    {
     "data": {
      "application/vnd.jupyter.widget-view+json": {
       "model_id": "f98c6a39e07742118290a6c256436900",
       "version_major": 2,
       "version_minor": 0
      },
      "text/plain": [
       "FileUpload(value={}, description='Upload')"
      ]
     },
     "metadata": {},
     "output_type": "display_data"
    },
    {
     "data": {
      "application/vnd.jupyter.widget-view+json": {
       "model_id": "fc761bd5cf6f4db39a4ad2b899601b2e",
       "version_major": 2,
       "version_minor": 0
      },
      "text/plain": [
       "HBox(children=(Select(description='Fworker:', options=('leibniz', 'hopper'), rows=2, value='leibniz'), Select(…"
      ]
     },
     "metadata": {},
     "output_type": "display_data"
    },
    {
     "data": {
      "application/vnd.jupyter.widget-view+json": {
       "model_id": "a361c0d4f8f9454ebf3c141c393b84b9",
       "version_major": 2,
       "version_minor": 0
      },
      "text/plain": [
       "HBox(children=(IntSlider(value=300, description='k-point density:', max=10000, min=100, step=100, style=Slider…"
      ]
     },
     "metadata": {},
     "output_type": "display_data"
    },
    {
     "data": {
      "application/vnd.jupyter.widget-view+json": {
       "model_id": "3e6f8cc499a445acae80b3102547eff7",
       "version_major": 2,
       "version_minor": 0
      },
      "text/plain": [
       "HBox(children=(Text(value='1, 2, 4', description='Node List:', placeholder='Nodes (comma separated)'), HBox(la…"
      ]
     },
     "metadata": {},
     "output_type": "display_data"
    },
    {
     "data": {
      "application/vnd.jupyter.widget-view+json": {
       "model_id": "2940b76902574428bd4a7466f463e32c",
       "version_major": 2,
       "version_minor": 0
      },
      "text/plain": [
       "Output()"
      ]
     },
     "metadata": {},
     "output_type": "display_data"
    }
   ],
   "source": [
    "from vscworkflows.handlers.core import ParallelizationTestMonitor, JobTerminator\n",
    "\n",
    "# Defaults for the parallelization settings\n",
    "user_incar_settings = {\"ALGO\": \"Normal\", \"ENCUT\":350, \"EDIFF\": 1e-8}\n",
    "\n",
    "handlers = [ParallelizationTestMonitor(max_elec_step_time=500, max_elec_steps=10),\n",
    "            JobTerminator(errors_subset_to_catch=[\"subspacematrix\", \"zpotrf\"], timeout=100)]\n",
    "\n",
    "# Launch the interface\n",
    "%run -i online_workflow_interface.py"
   ]
  },
  {
   "cell_type": "code",
   "execution_count": null,
   "metadata": {},
   "outputs": [],
   "source": []
  }
 ],
 "metadata": {
  "kernelspec": {
   "display_name": "Python 3",
   "language": "python",
   "name": "python3"
  },
  "language_info": {
   "codemirror_mode": {
    "name": "ipython",
    "version": 3
   },
   "file_extension": ".py",
   "mimetype": "text/x-python",
   "name": "python",
   "nbconvert_exporter": "python",
   "pygments_lexer": "ipython3",
   "version": "3.7.3"
  }
 },
 "nbformat": 4,
 "nbformat_minor": 4
}
