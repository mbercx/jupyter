{
 "cells": [
  {
   "cell_type": "markdown",
   "metadata": {},
   "source": [
    "# Parallelization - Workflow Interface\n",
    "\n",
    "In order to test the scaling of a particular system on a cluster, we have to compare the optimal performance of the cluster for an increasing number of resources (nodes) used.\n",
    "\n",
    "A sensible measure for gauging the performance of different resources/parallelization settings is the average electronic time step. This is especially useful compared to running a full calculation when we are testing the scaling for a very demanding calculation, as this might not be able to finish in the walltime for our baseline resource specification (ideally a single core). In light of this, we will simply perform a static calculation with a very demanding electronic convergence condition (1e-8). This will allow for a sufficient amount of electronic steps to average over.\n",
    "\n",
    "The cell below launches an interface for submitting workflows to a test mongoDB server. Be sure to change the default INCAR settings if desired, or change the settings of the two `Custodian` `ErrorHandler`'s we use for these workflows.\n",
    "\n",
    "**Note: Because the Binder server seems to have issues connecting to the mongoDB database, submitting workflows is not possible when using this notebook from Binder.**"
   ]
  },
  {
   "cell_type": "code",
   "execution_count": 1,
   "metadata": {},
   "outputs": [
    {
     "data": {
      "application/vnd.jupyter.widget-view+json": {
       "model_id": "d5f03506ebe549f985275685e5e015cf",
       "version_major": 2,
       "version_minor": 0
      },
      "text/plain": [
       "HBox(children=(FileUpload(value={}, description='Upload'), Select(description='Fworker:', options=('leibniz', …"
      ]
     },
     "metadata": {},
     "output_type": "display_data"
    },
    {
     "data": {
      "application/vnd.jupyter.widget-view+json": {
       "model_id": "ade65d9c08424e24a4114e983f5c8b11",
       "version_major": 2,
       "version_minor": 0
      },
      "text/plain": [
       "Output()"
      ]
     },
     "metadata": {},
     "output_type": "display_data"
    },
    {
     "data": {
      "application/vnd.jupyter.widget-view+json": {
       "model_id": "107c92c860c141c19cc3580da07ba838",
       "version_major": 2,
       "version_minor": 0
      },
      "text/plain": [
       "Output()"
      ]
     },
     "metadata": {},
     "output_type": "display_data"
    }
   ],
   "source": [
    "from vscworkflows.handlers.core import ParallelizationTestMonitor, JobTerminator\n",
    "\n",
    "# Defaults for the parallelization settings\n",
    "user_incar_settings = {\"ALGO\": \"Normal\", \"ENCUT\":350, \"EDIFF\": 1e-8}\n",
    "\n",
    "handlers = [ParallelizationTestMonitor(max_elec_step_time=500, max_elec_steps=10),\n",
    "            JobTerminator(errors_subset_to_catch=[\"subspacematrix\", \"zpotrf\"], timeout=100)]\n",
    "\n",
    "# Launch the interface\n",
    "%run -i online_workflow_interface.py"
   ]
  },
  {
   "cell_type": "code",
   "execution_count": null,
   "metadata": {},
   "outputs": [],
   "source": []
  }
 ],
 "metadata": {
  "kernelspec": {
   "display_name": "Python 3",
   "language": "python",
   "name": "python3"
  },
  "language_info": {
   "codemirror_mode": {
    "name": "ipython",
    "version": 3
   },
   "file_extension": ".py",
   "mimetype": "text/x-python",
   "name": "python",
   "nbconvert_exporter": "python",
   "pygments_lexer": "ipython3",
   "version": "3.7.3"
  }
 },
 "nbformat": 4,
 "nbformat_minor": 4
}
